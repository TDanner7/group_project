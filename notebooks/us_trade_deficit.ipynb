{
 "cells": [
  {
   "cell_type": "markdown",
   "id": "6354ba3a-9ba1-4b17-b00c-76a3df1e09b4",
   "metadata": {},
   "source": [
    "### A Decade of US Trade Deficit: YTD Comparison from October 2013 to 2023\""
   ]
  },
  {
   "cell_type": "code",
   "execution_count": 1,
   "id": "f9ecd7c2-b8a0-4b8e-9d2e-6171b195f54e",
   "metadata": {
    "tags": []
   },
   "outputs": [
    {
     "data": {
      "text/plain": [
       "True"
      ]
     },
     "execution_count": 1,
     "metadata": {},
     "output_type": "execute_result"
    }
   ],
   "source": [
    "import requests\n",
    "import math\n",
    "import pandas as pd\n",
    "import seaborn as sns\n",
    "import matplotlib.pyplot as plt\n",
    "import matplotlib.ticker as ticker\n",
    "from dotenv import load_dotenv\n",
    "import os\n",
    "load_dotenv()"
   ]
  },
  {
   "cell_type": "code",
   "execution_count": 2,
   "id": "0758423f-3206-4eb9-ae1f-35f0c92020d6",
   "metadata": {
    "tags": []
   },
   "outputs": [],
   "source": [
    "api_key = os.getenv('CENSUS_API_KEY')"
   ]
  },
  {
   "cell_type": "code",
   "execution_count": 3,
   "id": "074e7cbe-a8f8-451c-9429-7251d81634bb",
   "metadata": {
    "tags": []
   },
   "outputs": [
    {
     "data": {
      "text/html": [
       "<div>\n",
       "<style scoped>\n",
       "    .dataframe tbody tr th:only-of-type {\n",
       "        vertical-align: middle;\n",
       "    }\n",
       "\n",
       "    .dataframe tbody tr th {\n",
       "        vertical-align: top;\n",
       "    }\n",
       "\n",
       "    .dataframe thead th {\n",
       "        text-align: right;\n",
       "    }\n",
       "</style>\n",
       "<table border=\"1\" class=\"dataframe\">\n",
       "  <thead>\n",
       "    <tr style=\"text-align: right;\">\n",
       "      <th></th>\n",
       "      <th>0</th>\n",
       "      <th>1</th>\n",
       "    </tr>\n",
       "  </thead>\n",
       "  <tbody>\n",
       "    <tr>\n",
       "      <th>1</th>\n",
       "      <td>1310401091206</td>\n",
       "      <td>2013-10</td>\n",
       "    </tr>\n",
       "    <tr>\n",
       "      <th>1</th>\n",
       "      <td>1353429059251</td>\n",
       "      <td>2014-10</td>\n",
       "    </tr>\n",
       "    <tr>\n",
       "      <th>1</th>\n",
       "      <td>1262675541595</td>\n",
       "      <td>2015-10</td>\n",
       "    </tr>\n",
       "    <tr>\n",
       "      <th>1</th>\n",
       "      <td>1201846097537</td>\n",
       "      <td>2016-10</td>\n",
       "    </tr>\n",
       "    <tr>\n",
       "      <th>1</th>\n",
       "      <td>1275350376963</td>\n",
       "      <td>2017-10</td>\n",
       "    </tr>\n",
       "  </tbody>\n",
       "</table>\n",
       "</div>"
      ],
      "text/plain": [
       "               0        1\n",
       "1  1310401091206  2013-10\n",
       "1  1353429059251  2014-10\n",
       "1  1262675541595  2015-10\n",
       "1  1201846097537  2016-10\n",
       "1  1275350376963  2017-10"
      ]
     },
     "metadata": {},
     "output_type": "display_data"
    },
    {
     "data": {
      "text/html": [
       "<div>\n",
       "<style scoped>\n",
       "    .dataframe tbody tr th:only-of-type {\n",
       "        vertical-align: middle;\n",
       "    }\n",
       "\n",
       "    .dataframe tbody tr th {\n",
       "        vertical-align: top;\n",
       "    }\n",
       "\n",
       "    .dataframe thead th {\n",
       "        text-align: right;\n",
       "    }\n",
       "</style>\n",
       "<table border=\"1\" class=\"dataframe\">\n",
       "  <thead>\n",
       "    <tr style=\"text-align: right;\">\n",
       "      <th></th>\n",
       "      <th>0</th>\n",
       "      <th>1</th>\n",
       "    </tr>\n",
       "  </thead>\n",
       "  <tbody>\n",
       "    <tr>\n",
       "      <th>1</th>\n",
       "      <td>1896906198370</td>\n",
       "      <td>2013-10</td>\n",
       "    </tr>\n",
       "    <tr>\n",
       "      <th>1</th>\n",
       "      <td>1969669904087</td>\n",
       "      <td>2014-10</td>\n",
       "    </tr>\n",
       "    <tr>\n",
       "      <th>1</th>\n",
       "      <td>1886869870454</td>\n",
       "      <td>2015-10</td>\n",
       "    </tr>\n",
       "    <tr>\n",
       "      <th>1</th>\n",
       "      <td>1811912756358</td>\n",
       "      <td>2016-10</td>\n",
       "    </tr>\n",
       "    <tr>\n",
       "      <th>1</th>\n",
       "      <td>1931766287169</td>\n",
       "      <td>2017-10</td>\n",
       "    </tr>\n",
       "  </tbody>\n",
       "</table>\n",
       "</div>"
      ],
      "text/plain": [
       "               0        1\n",
       "1  1896906198370  2013-10\n",
       "1  1969669904087  2014-10\n",
       "1  1886869870454  2015-10\n",
       "1  1811912756358  2016-10\n",
       "1  1931766287169  2017-10"
      ]
     },
     "metadata": {},
     "output_type": "display_data"
    }
   ],
   "source": [
    "# Get Import and Export data for 2013-2023 October YTD \n",
    "\n",
    "base_url = 'https://api.census.gov/data/timeseries/intltrade/'\n",
    "\n",
    "export_dfs = []\n",
    "import_dfs = []\n",
    "\n",
    "\n",
    "for yr in range(2013, 2024):\n",
    "        \n",
    "    try:\n",
    "        exports = requests.get(f'{base_url}exports/porths?get=ALL_VAL_YR&time={yr}-10&key={api_key}')\n",
    "        df = pd.DataFrame(exports.json())\n",
    "        export_dfs.append(df.iloc[1:])\n",
    "\n",
    "        imports = requests.get(f'{base_url}imports/porths?get=GEN_VAL_YR&time={yr}-10&key={api_key}')\n",
    "        df = pd.DataFrame(imports.json())\n",
    "        import_dfs.append(df.iloc[1:])\n",
    "\n",
    "    except: continue\n",
    "    \n",
    "exports_df = pd.concat(export_dfs)\n",
    "imports_df = pd.concat(import_dfs)\n",
    "\n",
    "display(exports_df.head())\n",
    "display(imports_df.head())"
   ]
  },
  {
   "cell_type": "code",
   "execution_count": 4,
   "id": "7b0e9284-46bc-456a-96bd-784f1b65bffd",
   "metadata": {
    "tags": []
   },
   "outputs": [
    {
     "data": {
      "text/html": [
       "<div>\n",
       "<style scoped>\n",
       "    .dataframe tbody tr th:only-of-type {\n",
       "        vertical-align: middle;\n",
       "    }\n",
       "\n",
       "    .dataframe tbody tr th {\n",
       "        vertical-align: top;\n",
       "    }\n",
       "\n",
       "    .dataframe thead th {\n",
       "        text-align: right;\n",
       "    }\n",
       "</style>\n",
       "<table border=\"1\" class=\"dataframe\">\n",
       "  <thead>\n",
       "    <tr style=\"text-align: right;\">\n",
       "      <th></th>\n",
       "      <th>value</th>\n",
       "      <th>date</th>\n",
       "    </tr>\n",
       "  </thead>\n",
       "  <tbody>\n",
       "    <tr>\n",
       "      <th>1</th>\n",
       "      <td>1373347658085</td>\n",
       "      <td>2019-10</td>\n",
       "    </tr>\n",
       "    <tr>\n",
       "      <th>1</th>\n",
       "      <td>1170132185391</td>\n",
       "      <td>2020-10</td>\n",
       "    </tr>\n",
       "    <tr>\n",
       "      <th>1</th>\n",
       "      <td>1441956464091</td>\n",
       "      <td>2021-10</td>\n",
       "    </tr>\n",
       "    <tr>\n",
       "      <th>1</th>\n",
       "      <td>1726121740253</td>\n",
       "      <td>2022-10</td>\n",
       "    </tr>\n",
       "    <tr>\n",
       "      <th>1</th>\n",
       "      <td>1685641685930</td>\n",
       "      <td>2023-10</td>\n",
       "    </tr>\n",
       "  </tbody>\n",
       "</table>\n",
       "</div>"
      ],
      "text/plain": [
       "           value     date\n",
       "1  1373347658085  2019-10\n",
       "1  1170132185391  2020-10\n",
       "1  1441956464091  2021-10\n",
       "1  1726121740253  2022-10\n",
       "1  1685641685930  2023-10"
      ]
     },
     "metadata": {},
     "output_type": "display_data"
    },
    {
     "data": {
      "text/html": [
       "<div>\n",
       "<style scoped>\n",
       "    .dataframe tbody tr th:only-of-type {\n",
       "        vertical-align: middle;\n",
       "    }\n",
       "\n",
       "    .dataframe tbody tr th {\n",
       "        vertical-align: top;\n",
       "    }\n",
       "\n",
       "    .dataframe thead th {\n",
       "        text-align: right;\n",
       "    }\n",
       "</style>\n",
       "<table border=\"1\" class=\"dataframe\">\n",
       "  <thead>\n",
       "    <tr style=\"text-align: right;\">\n",
       "      <th></th>\n",
       "      <th>value</th>\n",
       "      <th>date</th>\n",
       "    </tr>\n",
       "  </thead>\n",
       "  <tbody>\n",
       "    <tr>\n",
       "      <th>1</th>\n",
       "      <td>2090847658517</td>\n",
       "      <td>2019-10</td>\n",
       "    </tr>\n",
       "    <tr>\n",
       "      <th>1</th>\n",
       "      <td>1904147115684</td>\n",
       "      <td>2020-10</td>\n",
       "    </tr>\n",
       "    <tr>\n",
       "      <th>1</th>\n",
       "      <td>2312367548006</td>\n",
       "      <td>2021-10</td>\n",
       "    </tr>\n",
       "    <tr>\n",
       "      <th>1</th>\n",
       "      <td>2733732286484</td>\n",
       "      <td>2022-10</td>\n",
       "    </tr>\n",
       "    <tr>\n",
       "      <th>1</th>\n",
       "      <td>2580671322262</td>\n",
       "      <td>2023-10</td>\n",
       "    </tr>\n",
       "  </tbody>\n",
       "</table>\n",
       "</div>"
      ],
      "text/plain": [
       "           value     date\n",
       "1  2090847658517  2019-10\n",
       "1  1904147115684  2020-10\n",
       "1  2312367548006  2021-10\n",
       "1  2733732286484  2022-10\n",
       "1  2580671322262  2023-10"
      ]
     },
     "metadata": {},
     "output_type": "display_data"
    }
   ],
   "source": [
    "# Set columns\n",
    "cols = ['value', 'date']\n",
    "exports_df.columns = cols\n",
    "imports_df.columns = cols\n",
    "\n",
    "display(exports_df.tail())\n",
    "display(imports_df.tail())"
   ]
  },
  {
   "cell_type": "code",
   "execution_count": 5,
   "id": "51dc7376-7e41-435e-b29a-f7ccff23cf7a",
   "metadata": {
    "tags": []
   },
   "outputs": [
    {
     "data": {
      "text/html": [
       "<div>\n",
       "<style scoped>\n",
       "    .dataframe tbody tr th:only-of-type {\n",
       "        vertical-align: middle;\n",
       "    }\n",
       "\n",
       "    .dataframe tbody tr th {\n",
       "        vertical-align: top;\n",
       "    }\n",
       "\n",
       "    .dataframe thead th {\n",
       "        text-align: right;\n",
       "    }\n",
       "</style>\n",
       "<table border=\"1\" class=\"dataframe\">\n",
       "  <thead>\n",
       "    <tr style=\"text-align: right;\">\n",
       "      <th></th>\n",
       "      <th>date</th>\n",
       "      <th>exports</th>\n",
       "      <th>imports</th>\n",
       "    </tr>\n",
       "  </thead>\n",
       "  <tbody>\n",
       "    <tr>\n",
       "      <th>0</th>\n",
       "      <td>2013-10-01</td>\n",
       "      <td>1.310401e+12</td>\n",
       "      <td>1.896906e+12</td>\n",
       "    </tr>\n",
       "    <tr>\n",
       "      <th>1</th>\n",
       "      <td>2014-10-01</td>\n",
       "      <td>1.353429e+12</td>\n",
       "      <td>1.969670e+12</td>\n",
       "    </tr>\n",
       "    <tr>\n",
       "      <th>2</th>\n",
       "      <td>2015-10-01</td>\n",
       "      <td>1.262676e+12</td>\n",
       "      <td>1.886870e+12</td>\n",
       "    </tr>\n",
       "    <tr>\n",
       "      <th>3</th>\n",
       "      <td>2016-10-01</td>\n",
       "      <td>1.201846e+12</td>\n",
       "      <td>1.811913e+12</td>\n",
       "    </tr>\n",
       "    <tr>\n",
       "      <th>4</th>\n",
       "      <td>2017-10-01</td>\n",
       "      <td>1.275350e+12</td>\n",
       "      <td>1.931766e+12</td>\n",
       "    </tr>\n",
       "  </tbody>\n",
       "</table>\n",
       "</div>"
      ],
      "text/plain": [
       "        date       exports       imports\n",
       "0 2013-10-01  1.310401e+12  1.896906e+12\n",
       "1 2014-10-01  1.353429e+12  1.969670e+12\n",
       "2 2015-10-01  1.262676e+12  1.886870e+12\n",
       "3 2016-10-01  1.201846e+12  1.811913e+12\n",
       "4 2017-10-01  1.275350e+12  1.931766e+12"
      ]
     },
     "execution_count": 5,
     "metadata": {},
     "output_type": "execute_result"
    }
   ],
   "source": [
    "# Merge DataFrames on 'date'\n",
    "merged_df = pd.merge(exports_df, imports_df, on='date', suffixes=('_exports', '_imports'))\n",
    "\n",
    "\n",
    "# Convert date to datetime\n",
    "merged_df['date'] = pd.to_datetime(merged_df['date'])\n",
    "\n",
    "# Cast to float\n",
    "merged_df['exports'] = merged_df['value_exports'].astype(float)\n",
    "merged_df['imports'] = merged_df['value_imports'].astype(float)\n",
    "merged_df.drop(columns=['value_exports', 'value_imports'], inplace=True)\n",
    "\n",
    "merged_df.head()"
   ]
  },
  {
   "cell_type": "code",
   "execution_count": 6,
   "id": "4f66ddda-1e07-43da-9ac1-de358627e66d",
   "metadata": {
    "tags": []
   },
   "outputs": [
    {
     "data": {
      "text/html": [
       "<div>\n",
       "<style scoped>\n",
       "    .dataframe tbody tr th:only-of-type {\n",
       "        vertical-align: middle;\n",
       "    }\n",
       "\n",
       "    .dataframe tbody tr th {\n",
       "        vertical-align: top;\n",
       "    }\n",
       "\n",
       "    .dataframe thead th {\n",
       "        text-align: right;\n",
       "    }\n",
       "</style>\n",
       "<table border=\"1\" class=\"dataframe\">\n",
       "  <thead>\n",
       "    <tr style=\"text-align: right;\">\n",
       "      <th></th>\n",
       "      <th>date</th>\n",
       "      <th>exports</th>\n",
       "      <th>imports</th>\n",
       "      <th>deficit</th>\n",
       "    </tr>\n",
       "  </thead>\n",
       "  <tbody>\n",
       "    <tr>\n",
       "      <th>0</th>\n",
       "      <td>2013-10-01</td>\n",
       "      <td>1.310401e+12</td>\n",
       "      <td>1.896906e+12</td>\n",
       "      <td>5.865051e+11</td>\n",
       "    </tr>\n",
       "    <tr>\n",
       "      <th>1</th>\n",
       "      <td>2014-10-01</td>\n",
       "      <td>1.353429e+12</td>\n",
       "      <td>1.969670e+12</td>\n",
       "      <td>6.162408e+11</td>\n",
       "    </tr>\n",
       "    <tr>\n",
       "      <th>2</th>\n",
       "      <td>2015-10-01</td>\n",
       "      <td>1.262676e+12</td>\n",
       "      <td>1.886870e+12</td>\n",
       "      <td>6.241943e+11</td>\n",
       "    </tr>\n",
       "    <tr>\n",
       "      <th>3</th>\n",
       "      <td>2016-10-01</td>\n",
       "      <td>1.201846e+12</td>\n",
       "      <td>1.811913e+12</td>\n",
       "      <td>6.100667e+11</td>\n",
       "    </tr>\n",
       "    <tr>\n",
       "      <th>4</th>\n",
       "      <td>2017-10-01</td>\n",
       "      <td>1.275350e+12</td>\n",
       "      <td>1.931766e+12</td>\n",
       "      <td>6.564159e+11</td>\n",
       "    </tr>\n",
       "  </tbody>\n",
       "</table>\n",
       "</div>"
      ],
      "text/plain": [
       "        date       exports       imports       deficit\n",
       "0 2013-10-01  1.310401e+12  1.896906e+12  5.865051e+11\n",
       "1 2014-10-01  1.353429e+12  1.969670e+12  6.162408e+11\n",
       "2 2015-10-01  1.262676e+12  1.886870e+12  6.241943e+11\n",
       "3 2016-10-01  1.201846e+12  1.811913e+12  6.100667e+11\n",
       "4 2017-10-01  1.275350e+12  1.931766e+12  6.564159e+11"
      ]
     },
     "execution_count": 6,
     "metadata": {},
     "output_type": "execute_result"
    }
   ],
   "source": [
    "# Calculate deficit\n",
    "merged_df['deficit'] = abs(merged_df['imports'] - merged_df['exports'])\n",
    "\n",
    "merged_df.head()"
   ]
  },
  {
   "cell_type": "code",
   "execution_count": 7,
   "id": "e1327f32-94a1-426f-b0c9-03ddffd995fa",
   "metadata": {
    "tags": []
   },
   "outputs": [
    {
     "data": {
      "image/png": "[encoded data removed]",
      "text/plain": [
       "<Figure size 1200x800 with 1 Axes>"
      ]
     },
     "metadata": {},
     "output_type": "display_data"
    }
   ],
   "source": [
    "# Melt the DataFrame to long format for Seaborn plotting\n",
    "df_melted = merged_df.melt(id_vars='date', var_name='Transaction Type', value_name='YTD Value (USD)')\n",
    "df_melted['date'] = df_melted['date'].dt.to_period('M')\n",
    "\n",
    "# Plotting with Seaborn\n",
    "plt.figure(figsize=(12, 8))\n",
    "sns.barplot(\n",
    "    data=df_melted, \n",
    "    x='date', \n",
    "    y='YTD Value (USD)', \n",
    "    hue='Transaction Type'\n",
    ")\n",
    "plt.xlabel('Date')\n",
    "plt.ylabel('YTD Value USD')\n",
    "plt.title('Imports vs Exports: YTD October (2013 - 2023)')\n",
    "plt.legend(title='YTD Value USD')\n",
    "plt.xticks(rotation=20)\n",
    "plt.tight_layout()\n",
    "plt.show()"
   ]
  },
  {
   "cell_type": "code",
   "execution_count": 8,
   "id": "65c86713-2a67-432d-90f1-af242f8a1feb",
   "metadata": {
    "tags": []
   },
   "outputs": [],
   "source": [
    "# Convert the USD total to billions\n",
    "def format_dollar(n):\n",
    "    scales = ['', 'thousand', 'million', 'billion', 'trillion', 'quadrillion', 'quintillion']\n",
    "\n",
    "    scale_index = 0\n",
    "    while abs(n) >= 1000 and scale_index < len(scales) - 1:\n",
    "        n /= 1000.0\n",
    "        scale_index += 1\n",
    "\n",
    "    return f\"${n:.2f} {scales[scale_index]}\""
   ]
  },
  {
   "cell_type": "code",
   "execution_count": 9,
   "id": "8aaa5b2f-b8eb-4361-8ce0-99afba7f58d2",
   "metadata": {
    "tags": []
   },
   "outputs": [
    {
     "data": {
      "text/plain": [
       "['$586.51 billion',\n",
       " '$616.24 billion',\n",
       " '$624.19 billion',\n",
       " '$610.07 billion',\n",
       " '$656.42 billion',\n",
       " '$723.50 billion',\n",
       " '$717.50 billion',\n",
       " '$734.01 billion',\n",
       " '$870.41 billion',\n",
       " '$1.01 trillion',\n",
       " '$895.03 billion']"
      ]
     },
     "execution_count": 9,
     "metadata": {},
     "output_type": "execute_result"
    }
   ],
   "source": [
    "deficits = merged_df['deficit'].tolist()\n",
    "deficits_formatted = list(map(lambda n: format_dollar(n), deficits))\n",
    "\n",
    "deficits_formatted"
   ]
  }
 ],
 "metadata": {
  "kernelspec": {
   "display_name": "Python 3 (ipykernel)",
   "language": "python",
   "name": "python3"
  },
  "language_info": {
   "codemirror_mode": {
    "name": "ipython",
    "version": 3
   },
   "file_extension": ".py",
   "mimetype": "text/x-python",
   "name": "python",
   "nbconvert_exporter": "python",
   "pygments_lexer": "ipython3",
   "version": "3.10.13"
  }
 },
 "nbformat": 4,
 "nbformat_minor": 5
}
